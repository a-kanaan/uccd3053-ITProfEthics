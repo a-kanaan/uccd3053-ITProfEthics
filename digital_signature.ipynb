{
  "nbformat": 4,
  "nbformat_minor": 0,
  "metadata": {
    "colab": {
      "provenance": [],
      "authorship_tag": "ABX9TyNezxwPyAJCDe6irw9mK9hw",
      "include_colab_link": true
    },
    "kernelspec": {
      "name": "python3",
      "display_name": "Python 3"
    },
    "language_info": {
      "name": "python"
    }
  },
  "cells": [
    {
      "cell_type": "markdown",
      "metadata": {
        "id": "view-in-github",
        "colab_type": "text"
      },
      "source": [
        "<a href=\"https://colab.research.google.com/github/a-kanaan/uccd3053-ITProfEthics/blob/master/digital_signature.ipynb\" target=\"_parent\"><img src=\"https://colab.research.google.com/assets/colab-badge.svg\" alt=\"Open In Colab\"/></a>"
      ]
    },
    {
      "cell_type": "code",
      "execution_count": 1,
      "metadata": {
        "id": "ELHVxrfPHAX_"
      },
      "outputs": [],
      "source": [
        "#!pip install cryptography"
      ]
    },
    {
      "cell_type": "code",
      "source": [
        "from cryptography.hazmat.primitives import hashes\n",
        "from cryptography.hazmat.primitives.asymmetric import rsa, padding\n",
        "from cryptography.hazmat.primitives import serialization"
      ],
      "metadata": {
        "id": "Qi44uIY1HeCn"
      },
      "execution_count": 2,
      "outputs": []
    },
    {
      "cell_type": "code",
      "source": [
        "# Step 1: Generate Private and Public Keys\n",
        "private_key = rsa.generate_private_key(public_exponent=65537, key_size=2048)\n",
        "public_key = private_key.public_key()"
      ],
      "metadata": {
        "id": "6-5dY8bGHc0_"
      },
      "execution_count": 3,
      "outputs": []
    },
    {
      "cell_type": "code",
      "source": [
        "# Step 2: Define Document and Create a Hash\n",
        "document = \"Agreement between Company A and Client B for Project X\".encode('utf-8')"
      ],
      "metadata": {
        "id": "_QPW44xvHfUv"
      },
      "execution_count": 4,
      "outputs": []
    },
    {
      "cell_type": "code",
      "source": [
        "# Step 3: Sign the Hash with the Private Key\n",
        "signature = private_key.sign(\n",
        "    document,\n",
        "    padding.PKCS1v15(),\n",
        "    hashes.SHA256()\n",
        ")"
      ],
      "metadata": {
        "id": "zEacVV5aHfX3"
      },
      "execution_count": 5,
      "outputs": []
    },
    {
      "cell_type": "code",
      "source": [
        "# Step 4: Verify the Signature with the Public Key\n",
        "try:\n",
        "    public_key.verify(\n",
        "        signature,\n",
        "        document,\n",
        "        padding.PKCS1v15(),\n",
        "        hashes.SHA256()\n",
        "    )\n",
        "    print(\"The document is authentic.\")\n",
        "except:\n",
        "    print(\"The document has been altered.\")"
      ],
      "metadata": {
        "colab": {
          "base_uri": "https://localhost:8080/"
        },
        "id": "kzohTzICHfao",
        "outputId": "a8b0853a-8dda-4d58-efc3-8618792c91b1"
      },
      "execution_count": 6,
      "outputs": [
        {
          "output_type": "stream",
          "name": "stdout",
          "text": [
            "The document is authentic.\n"
          ]
        }
      ]
    }
  ]
}